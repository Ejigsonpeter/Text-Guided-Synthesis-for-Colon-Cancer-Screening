{
 "cells": [
  {
   "cell_type": "markdown",
   "id": "b45290e2-56b5-49dc-80cc-f40257f3dbcc",
   "metadata": {
    "tags": []
   },
   "source": [
    "# Inference on finetuned Stable Diffusion "
   ]
  },
  {
   "cell_type": "code",
   "execution_count": null,
   "id": "8f50e002-a413-492e-b14a-ce4510150b0e",
   "metadata": {},
   "outputs": [],
   "source": [
    "#!git clone https://github.com/huggingface/diffusers\n",
    "#!pip install -r diffusers/examples/text_to_image/requirements.txt\n",
    "#!pip install huggingface-hub"
   ]
  },
  {
   "cell_type": "code",
   "execution_count": null,
   "id": "aaa8c3fe-0059-445c-b18b-b9fb0580898f",
   "metadata": {},
   "outputs": [],
   "source": [
    "!accelerate config default"
   ]
  },
  {
   "cell_type": "code",
   "execution_count": null,
   "id": "215c6725-bf1f-4d8a-9980-89032e1bb2c3",
   "metadata": {},
   "outputs": [],
   "source": [
    "from huggingface_hub import login\n",
    "\n",
    "# Login to Hugging Face\n",
    "login()"
   ]
  },
  {
   "cell_type": "markdown",
   "id": "8bdadd5e-858c-4707-8311-060d192bd312",
   "metadata": {},
   "source": [
    "## Generate Single Image"
   ]
  },
  {
   "cell_type": "code",
   "execution_count": 4,
   "id": "04ba9344-7b61-4006-ab77-3c42753271ed",
   "metadata": {
    "tags": []
   },
   "outputs": [],
   "source": [
    "import gc\n",
    "gc.collect()\n",
    "torch.cuda.empty_cache()"
   ]
  },
  {
   "cell_type": "code",
   "execution_count": null,
   "id": "aa003270-5ee0-4634-b2e7-f013e7472423",
   "metadata": {},
   "outputs": [],
   "source": [
    "from diffusers import StableDiffusionPipeline\n",
    "import torch\n",
    "model_path = \"finetuned-stable-diffusion\"\n",
    "pipe = StableDiffusionPipeline.from_pretrained(model_path, torch_dtype=torch.float16)\n",
    "pipe.to(\"cuda\")\n",
    "\n",
    "image = pipe(prompt=\"Generate an image with an an abnormality located in the center, upper-left, upper-right, lower-left, lower-right, center-left, center-right, upper-center and lower-center.\").images[0]\n",
    "image.save(\"gen-finetuned1.png\")"
   ]
  },
  {
   "cell_type": "markdown",
   "id": "8bac8e3a-6fb1-4eb0-84cb-e5020a14c6b9",
   "metadata": {},
   "source": [
    "## Generate Multiple Image"
   ]
  },
  {
   "cell_type": "code",
   "execution_count": null,
   "id": "ff15d70c-7deb-468b-b4f1-8e7b343bb9fd",
   "metadata": {},
   "outputs": [],
   "source": [
    "\n",
    "import os\n",
    "import csv\n",
    "from diffusers import StableDiffusionPipeline\n",
    "import torch\n",
    "from PIL import Image\n",
    "\n",
    "# Set up the pipeline\n",
    "model_path = \"finetuned-stable-diffusion\"\n",
    "pipe = StableDiffusionPipeline.from_pretrained(model_path, torch_dtype=torch.float16)\n",
    "pipe.to(\"cuda\")\n",
    "\n",
    "# Disable NSFW filter\n",
    "pipe.safety_checker = lambda images, **kwargs: (images, [False] * len(images))\n",
    "\n",
    "# Define file paths\n",
    "prompt_file_path = \"ImageCLEFmed-MEDVQA-GI-2024-Testing-Propmpts.txt\"\n",
    "output_folder = \"SD-synthetic\"\n",
    "csv_file_path = \"prompt_and_data.csv\"\n",
    "\n",
    "# Create output directory if it doesn't exist\n",
    "os.makedirs(output_folder, exist_ok=True)\n",
    "\n",
    "# Open the prompt file and read prompts\n",
    "with open(prompt_file_path, 'r') as file:\n",
    "    prompts = [next(file).strip() for _ in range(50)]\n",
    "\n",
    "# Open the CSV file for writing\n",
    "with open(csv_file_path, 'w', newline='') as csvfile:\n",
    "    fieldnames = ['prompt', 'image_name', 'image_path']\n",
    "    writer = csv.DictWriter(csvfile, fieldnames=fieldnames)\n",
    "    writer.writeheader()\n",
    "\n",
    "    # Generate images for each prompt and save them\n",
    "    for i, prompt in enumerate(prompts):\n",
    "        prompt = prompt.strip()\n",
    "        if prompt:  # Check if prompt is not empty\n",
    "            result = pipe(prompt=prompt)\n",
    "            image = result.images[0]\n",
    "            image_name = f\"gen-finetuned-{i+1}.png\"\n",
    "            image_path = os.path.join(output_folder, image_name)\n",
    "            image.save(image_path)\n",
    "\n",
    "            # Write prompt and image details to the CSV file\n",
    "            writer.writerow({'prompt': prompt, 'image_name': image_name, 'image_path': image_path})\n"
   ]
  }
 ],
 "metadata": {
  "environment": {
   "kernel": "conda-env-pytorch-pytorch",
   "name": "workbench-notebooks.m121",
   "type": "gcloud",
   "uri": "us-docker.pkg.dev/deeplearning-platform-release/gcr.io/workbench-notebooks:m121"
  },
  "kernelspec": {
   "display_name": "PyTorch 1-13 (Local)",
   "language": "python",
   "name": "conda-env-pytorch-pytorch"
  },
  "language_info": {
   "codemirror_mode": {
    "name": "ipython",
    "version": 3
   },
   "file_extension": ".py",
   "mimetype": "text/x-python",
   "name": "python",
   "nbconvert_exporter": "python",
   "pygments_lexer": "ipython3",
   "version": "3.10.14"
  }
 },
 "nbformat": 4,
 "nbformat_minor": 5
}
